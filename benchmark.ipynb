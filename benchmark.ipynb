{
 "cells": [
  {
   "cell_type": "code",
   "execution_count": 2,
   "metadata": {},
   "outputs": [
    {
     "name": "stdout",
     "output_type": "stream",
     "text": [
      "Warning: Looks like you're using an outdated API Version, please consider updating (server 1.6.7 / client 1.6.6)\n",
      "https://www.kaggle.com/competitions/llm-prompt-recovery $200,000 False\n",
      "https://www.kaggle.com/competitions/home-credit-credit-risk-model-stability $105,000 True\n",
      "https://www.kaggle.com/competitions/pii-detection-removal-from-educational-data $60,000 False\n",
      "https://www.kaggle.com/competitions/hms-harmful-brain-activity-classification $50,000 False\n",
      "https://www.kaggle.com/competitions/march-machine-learning-mania-2024 $50,000 False\n",
      "https://www.kaggle.com/competitions/data-assistants-with-gemma $50,000 False\n",
      "https://www.kaggle.com/competitions/titanic Knowledge False\n",
      "https://www.kaggle.com/competitions/house-prices-advanced-regression-techniques Knowledge True\n",
      "https://www.kaggle.com/competitions/spaceship-titanic Knowledge False\n",
      "https://www.kaggle.com/competitions/digit-recognizer Knowledge False\n",
      "https://www.kaggle.com/competitions/playground-series-s4e3 Swag False\n",
      "https://www.kaggle.com/competitions/nlp-getting-started Knowledge False\n",
      "https://www.kaggle.com/competitions/store-sales-time-series-forecasting Knowledge False\n",
      "https://www.kaggle.com/competitions/connectx Knowledge False\n",
      "https://www.kaggle.com/competitions/planttraits2024 Knowledge False\n",
      "https://www.kaggle.com/competitions/gan-getting-started Knowledge False\n",
      "https://www.kaggle.com/competitions/contradictory-my-dear-watson Knowledge False\n",
      "https://www.kaggle.com/competitions/tpu-getting-started Knowledge False\n",
      "https://www.kaggle.com/competitions/geolifeclef-2024 Knowledge False\n",
      "https://www.kaggle.com/competitions/optiver-trading-at-the-close $100,000 False\n"
     ]
    }
   ],
   "source": [
    "from kaggle.api.kaggle_api_extended import KaggleApi\n",
    "\n",
    "api = KaggleApi()\n",
    "api.authenticate()\n",
    "\n",
    "# List all competitions\n",
    "competitions = api.competitions_list()\n",
    "\n",
    "# Print the name of each competition\n",
    "for comp in competitions:\n",
    "    print(comp.ref, comp.reward, comp.userHasEntered)\n"
   ]
  },
  {
   "cell_type": "code",
   "execution_count": 3,
   "metadata": {},
   "outputs": [
    {
     "name": "stdout",
     "output_type": "stream",
     "text": [
      "Downloading home-credit-credit-risk-model-stability.zip to /data\n",
      "... resuming from 3333122688 bytes (42582097 bytes left) ...\n"
     ]
    },
    {
     "name": "stderr",
     "output_type": "stream",
     "text": [
      "100%|██████████| 3.14G/3.14G [00:04<00:00, 9.59MB/s]"
     ]
    },
    {
     "name": "stdout",
     "output_type": "stream",
     "text": [
      "\n"
     ]
    },
    {
     "name": "stderr",
     "output_type": "stream",
     "text": [
      "\n"
     ]
    }
   ],
   "source": [
    "\n",
    "competition_slug = 'home-credit-credit-risk-model-stability'\n",
    "path = '/data'  # Specify the path where you want the data to be downloaded\n",
    "\n",
    "api.competition_download_files(competition_slug, path=path, quiet=False, force=False)\n"
   ]
  },
  {
   "cell_type": "code",
   "execution_count": 4,
   "metadata": {},
   "outputs": [],
   "source": [
    "import os\n",
    "import polars as pl\n",
    "import numpy as np\n",
    "import pandas as pd\n",
    "import lightgbm as lgb\n",
    "from sklearn.model_selection import train_test_split\n",
    "from sklearn.metrics import roc_auc_score \n",
    "\n",
    "dataPath = \"/kaggle/input/home-credit-credit-risk-model-stability/\""
   ]
  },
  {
   "cell_type": "code",
   "execution_count": 10,
   "metadata": {},
   "outputs": [],
   "source": [
    "def set_table_dtypes(df: pl.DataFrame) -> pl.DataFrame:\n",
    "    # implement here all desired dtypes for tables\n",
    "    # the following is just an example\n",
    "    for col in df.columns:\n",
    "        # last letter of column name will help you determine the type\n",
    "        if col[-1] in (\"P\", \"A\"):\n",
    "            df = df.with_columns(pl.col(col).cast(pl.Float64).alias(col))\n",
    "\n",
    "    return df\n",
    "def convert_strings(df: pd.DataFrame) -> pd.DataFrame:\n",
    "    for col in df.columns:  \n",
    "        if df[col].dtype.name in ['object', 'string']:\n",
    "            df[col] = df[col].astype(\"string\").astype('category')\n",
    "            current_categories = df[col].cat.categories\n",
    "            new_categories = current_categories.to_list() + [\"Unknown\"]\n",
    "            new_dtype = pd.CategoricalDtype(categories=new_categories, ordered=True)\n",
    "            df[col] = df[col].astype(new_dtype)\n",
    "    return df"
   ]
  },
  {
   "cell_type": "code",
   "execution_count": 5,
   "metadata": {},
   "outputs": [
    {
     "name": "stdout",
     "output_type": "stream",
     "text": [
      "['csv_files', 'feature_definitions.csv', 'home-credit-credit-risk-model-stability.zip', 'parquet_files', 'sample_submission.csv']\n"
     ]
    }
   ],
   "source": [
    "import os\n",
    "\n",
    "dataPath = \"/kaggle/input/home-credit-credit-risk-model-stability/\"\n",
    "contents = os.listdir(dataPath)\n",
    "print(contents)\n"
   ]
  },
  {
   "cell_type": "code",
   "execution_count": 6,
   "metadata": {},
   "outputs": [],
   "source": [
    "train_basetable = pl.read_csv(dataPath + \"csv_files/train/train_base.csv\")"
   ]
  },
  {
   "cell_type": "code",
   "execution_count": 11,
   "metadata": {},
   "outputs": [],
   "source": [
    "train_static = pl.concat(\n",
    "    [\n",
    "        pl.read_csv(dataPath + \"csv_files/train/train_static_0_0.csv\").pipe(set_table_dtypes),\n",
    "        pl.read_csv(dataPath + \"csv_files/train/train_static_0_1.csv\").pipe(set_table_dtypes),\n",
    "    ],\n",
    "    how=\"vertical_relaxed\",\n",
    ")"
   ]
  },
  {
   "cell_type": "code",
   "execution_count": 12,
   "metadata": {},
   "outputs": [
    {
     "data": {
      "text/html": [
       "<div><style>\n",
       ".dataframe > thead > tr,\n",
       ".dataframe > tbody > tr {\n",
       "  text-align: right;\n",
       "  white-space: pre-wrap;\n",
       "}\n",
       "</style>\n",
       "<small>shape: (5, 168)</small><table border=\"1\" class=\"dataframe\"><thead><tr><th>case_id</th><th>actualdpdtolerance_344P</th><th>amtinstpaidbefduel24m_4187115A</th><th>annuity_780A</th><th>annuitynextmonth_57A</th><th>applicationcnt_361L</th><th>applications30d_658L</th><th>applicationscnt_1086L</th><th>applicationscnt_464L</th><th>applicationscnt_629L</th><th>applicationscnt_867L</th><th>avgdbddpdlast24m_3658932P</th><th>avgdbddpdlast3m_4187120P</th><th>avgdbdtollast24m_4525197P</th><th>avgdpdtolclosure24_3658938P</th><th>avginstallast24m_3658937A</th><th>avglnamtstart24m_4525187A</th><th>avgmaxdpdlast9m_3716943P</th><th>avgoutstandbalancel6m_4187114A</th><th>avgpmtlast12m_4525200A</th><th>bankacctype_710L</th><th>cardtype_51L</th><th>clientscnt12m_3712952L</th><th>clientscnt3m_3712950L</th><th>clientscnt6m_3712949L</th><th>clientscnt_100L</th><th>clientscnt_1022L</th><th>clientscnt_1071L</th><th>clientscnt_1130L</th><th>clientscnt_136L</th><th>clientscnt_157L</th><th>clientscnt_257L</th><th>clientscnt_304L</th><th>clientscnt_360L</th><th>clientscnt_493L</th><th>clientscnt_533L</th><th>clientscnt_887L</th><th>&hellip;</th><th>numinstpaidearlyest_4493214L</th><th>numinstpaidlastcontr_4325080L</th><th>numinstpaidlate1d_3546852L</th><th>numinstregularpaid_973L</th><th>numinstregularpaidest_4493210L</th><th>numinsttopaygr_769L</th><th>numinsttopaygrest_4493213L</th><th>numinstunpaidmax_3546851L</th><th>numinstunpaidmaxest_4493212L</th><th>numnotactivated_1143L</th><th>numpmtchanneldd_318L</th><th>numrejects9m_859L</th><th>opencred_647L</th><th>paytype1st_925L</th><th>paytype_783L</th><th>payvacationpostpone_4187118D</th><th>pctinstlsallpaidearl3d_427L</th><th>pctinstlsallpaidlat10d_839L</th><th>pctinstlsallpaidlate1d_3546856L</th><th>pctinstlsallpaidlate4d_3546849L</th><th>pctinstlsallpaidlate6d_3546844L</th><th>pmtnum_254L</th><th>posfpd10lastmonth_333P</th><th>posfpd30lastmonth_3976960P</th><th>posfstqpd30lastmonth_3976962P</th><th>previouscontdistrict_112M</th><th>price_1097A</th><th>sellerplacecnt_915L</th><th>sellerplacescnt_216L</th><th>sumoutstandtotal_3546847A</th><th>sumoutstandtotalest_4493215A</th><th>totaldebt_9A</th><th>totalsettled_863A</th><th>totinstallast1m_4525188A</th><th>twobodfilling_608L</th><th>typesuite_864L</th><th>validfrom_1069D</th></tr><tr><td>i64</td><td>f64</td><td>f64</td><td>f64</td><td>f64</td><td>f64</td><td>f64</td><td>f64</td><td>f64</td><td>f64</td><td>f64</td><td>f64</td><td>f64</td><td>f64</td><td>f64</td><td>f64</td><td>f64</td><td>f64</td><td>f64</td><td>f64</td><td>str</td><td>str</td><td>f64</td><td>f64</td><td>f64</td><td>f64</td><td>f64</td><td>f64</td><td>f64</td><td>str</td><td>f64</td><td>f64</td><td>f64</td><td>f64</td><td>f64</td><td>f64</td><td>f64</td><td>&hellip;</td><td>str</td><td>str</td><td>f64</td><td>f64</td><td>str</td><td>f64</td><td>str</td><td>f64</td><td>str</td><td>f64</td><td>f64</td><td>f64</td><td>bool</td><td>str</td><td>str</td><td>str</td><td>f64</td><td>f64</td><td>f64</td><td>f64</td><td>f64</td><td>f64</td><td>f64</td><td>f64</td><td>f64</td><td>str</td><td>f64</td><td>f64</td><td>f64</td><td>f64</td><td>f64</td><td>f64</td><td>f64</td><td>f64</td><td>str</td><td>str</td><td>str</td></tr></thead><tbody><tr><td>0</td><td>null</td><td>null</td><td>1917.6</td><td>0.0</td><td>0.0</td><td>0.0</td><td>0.0</td><td>0.0</td><td>0.0</td><td>0.0</td><td>null</td><td>null</td><td>null</td><td>null</td><td>null</td><td>null</td><td>null</td><td>null</td><td>null</td><td>null</td><td>null</td><td>0.0</td><td>0.0</td><td>0.0</td><td>0.0</td><td>0.0</td><td>0.0</td><td>0.0</td><td>null</td><td>0.0</td><td>0.0</td><td>0.0</td><td>0.0</td><td>0.0</td><td>0.0</td><td>0.0</td><td>&hellip;</td><td>null</td><td>null</td><td>null</td><td>null</td><td>null</td><td>null</td><td>null</td><td>null</td><td>null</td><td>0.0</td><td>0.0</td><td>0.0</td><td>null</td><td>&quot;OTHER&quot;</td><td>&quot;OTHER&quot;</td><td>null</td><td>null</td><td>null</td><td>null</td><td>null</td><td>null</td><td>24.0</td><td>0.0</td><td>0.0</td><td>null</td><td>&quot;a55475b1&quot;</td><td>null</td><td>0.0</td><td>0.0</td><td>null</td><td>null</td><td>0.0</td><td>0.0</td><td>null</td><td>&quot;BO&quot;</td><td>null</td><td>null</td></tr><tr><td>1</td><td>null</td><td>null</td><td>3134.0</td><td>0.0</td><td>0.0</td><td>0.0</td><td>0.0</td><td>0.0</td><td>0.0</td><td>0.0</td><td>null</td><td>null</td><td>null</td><td>null</td><td>null</td><td>null</td><td>null</td><td>null</td><td>null</td><td>null</td><td>null</td><td>0.0</td><td>0.0</td><td>0.0</td><td>0.0</td><td>0.0</td><td>0.0</td><td>0.0</td><td>&quot;0.0&quot;</td><td>3.0</td><td>0.0</td><td>0.0</td><td>0.0</td><td>0.0</td><td>0.0</td><td>0.0</td><td>&hellip;</td><td>null</td><td>null</td><td>null</td><td>null</td><td>null</td><td>null</td><td>null</td><td>null</td><td>null</td><td>0.0</td><td>0.0</td><td>0.0</td><td>null</td><td>&quot;OTHER&quot;</td><td>&quot;OTHER&quot;</td><td>null</td><td>null</td><td>null</td><td>null</td><td>null</td><td>null</td><td>18.0</td><td>0.0</td><td>0.0</td><td>null</td><td>&quot;a55475b1&quot;</td><td>null</td><td>0.0</td><td>0.0</td><td>null</td><td>null</td><td>0.0</td><td>0.0</td><td>null</td><td>&quot;BO&quot;</td><td>null</td><td>null</td></tr><tr><td>2</td><td>null</td><td>null</td><td>4937.0</td><td>0.0</td><td>0.0</td><td>0.0</td><td>0.0</td><td>0.0</td><td>0.0</td><td>0.0</td><td>null</td><td>null</td><td>null</td><td>null</td><td>null</td><td>null</td><td>null</td><td>null</td><td>null</td><td>null</td><td>null</td><td>0.0</td><td>0.0</td><td>0.0</td><td>0.0</td><td>0.0</td><td>0.0</td><td>0.0</td><td>null</td><td>0.0</td><td>0.0</td><td>0.0</td><td>0.0</td><td>0.0</td><td>0.0</td><td>0.0</td><td>&hellip;</td><td>null</td><td>null</td><td>null</td><td>null</td><td>null</td><td>null</td><td>null</td><td>null</td><td>null</td><td>0.0</td><td>0.0</td><td>0.0</td><td>false</td><td>&quot;OTHER&quot;</td><td>&quot;OTHER&quot;</td><td>null</td><td>null</td><td>null</td><td>null</td><td>null</td><td>null</td><td>36.0</td><td>0.0</td><td>0.0</td><td>null</td><td>&quot;a55475b1&quot;</td><td>null</td><td>0.0</td><td>0.0</td><td>null</td><td>null</td><td>0.0</td><td>0.0</td><td>null</td><td>&quot;BO&quot;</td><td>&quot;AL&quot;</td><td>null</td></tr><tr><td>3</td><td>null</td><td>null</td><td>4643.6</td><td>0.0</td><td>0.0</td><td>1.0</td><td>0.0</td><td>2.0</td><td>0.0</td><td>1.0</td><td>null</td><td>null</td><td>null</td><td>null</td><td>null</td><td>null</td><td>null</td><td>null</td><td>null</td><td>null</td><td>null</td><td>0.0</td><td>0.0</td><td>0.0</td><td>0.0</td><td>0.0</td><td>0.0</td><td>1.0</td><td>null</td><td>0.0</td><td>0.0</td><td>0.0</td><td>0.0</td><td>0.0</td><td>0.0</td><td>0.0</td><td>&hellip;</td><td>null</td><td>null</td><td>null</td><td>null</td><td>null</td><td>null</td><td>null</td><td>null</td><td>null</td><td>0.0</td><td>0.0</td><td>1.0</td><td>false</td><td>&quot;OTHER&quot;</td><td>&quot;OTHER&quot;</td><td>null</td><td>null</td><td>null</td><td>null</td><td>null</td><td>null</td><td>12.0</td><td>0.0</td><td>0.0</td><td>null</td><td>&quot;a55475b1&quot;</td><td>null</td><td>1.0</td><td>1.0</td><td>null</td><td>null</td><td>0.0</td><td>0.0</td><td>null</td><td>&quot;BO&quot;</td><td>&quot;AL&quot;</td><td>null</td></tr><tr><td>4</td><td>null</td><td>null</td><td>3390.2</td><td>0.0</td><td>0.0</td><td>1.0</td><td>0.0</td><td>0.0</td><td>0.0</td><td>1.0</td><td>null</td><td>null</td><td>null</td><td>null</td><td>null</td><td>null</td><td>null</td><td>null</td><td>null</td><td>null</td><td>null</td><td>0.0</td><td>0.0</td><td>0.0</td><td>0.0</td><td>0.0</td><td>0.0</td><td>0.0</td><td>null</td><td>0.0</td><td>0.0</td><td>0.0</td><td>0.0</td><td>0.0</td><td>0.0</td><td>0.0</td><td>&hellip;</td><td>null</td><td>null</td><td>null</td><td>null</td><td>null</td><td>null</td><td>null</td><td>null</td><td>null</td><td>0.0</td><td>0.0</td><td>0.0</td><td>false</td><td>&quot;OTHER&quot;</td><td>&quot;OTHER&quot;</td><td>null</td><td>null</td><td>null</td><td>null</td><td>null</td><td>null</td><td>24.0</td><td>0.0</td><td>0.0</td><td>null</td><td>&quot;a55475b1&quot;</td><td>null</td><td>0.0</td><td>0.0</td><td>null</td><td>null</td><td>0.0</td><td>0.0</td><td>null</td><td>&quot;BO&quot;</td><td>&quot;AL&quot;</td><td>null</td></tr></tbody></table></div>"
      ],
      "text/plain": [
       "shape: (5, 168)\n",
       "┌─────────┬────────────┬───────────┬───────────┬───┬───────────┬───────────┬───────────┬───────────┐\n",
       "│ case_id ┆ actualdpdt ┆ amtinstpa ┆ annuity_7 ┆ … ┆ totinstal ┆ twobodfil ┆ typesuite ┆ validfrom │\n",
       "│ ---     ┆ olerance_3 ┆ idbefduel ┆ 80A       ┆   ┆ last1m_45 ┆ ling_608L ┆ _864L     ┆ _1069D    │\n",
       "│ i64     ┆ 44P        ┆ 24m_41871 ┆ ---       ┆   ┆ 25188A    ┆ ---       ┆ ---       ┆ ---       │\n",
       "│         ┆ ---        ┆ 15A       ┆ f64       ┆   ┆ ---       ┆ str       ┆ str       ┆ str       │\n",
       "│         ┆ f64        ┆ ---       ┆           ┆   ┆ f64       ┆           ┆           ┆           │\n",
       "│         ┆            ┆ f64       ┆           ┆   ┆           ┆           ┆           ┆           │\n",
       "╞═════════╪════════════╪═══════════╪═══════════╪═══╪═══════════╪═══════════╪═══════════╪═══════════╡\n",
       "│ 0       ┆ null       ┆ null      ┆ 1917.6    ┆ … ┆ null      ┆ BO        ┆ null      ┆ null      │\n",
       "│ 1       ┆ null       ┆ null      ┆ 3134.0    ┆ … ┆ null      ┆ BO        ┆ null      ┆ null      │\n",
       "│ 2       ┆ null       ┆ null      ┆ 4937.0    ┆ … ┆ null      ┆ BO        ┆ AL        ┆ null      │\n",
       "│ 3       ┆ null       ┆ null      ┆ 4643.6    ┆ … ┆ null      ┆ BO        ┆ AL        ┆ null      │\n",
       "│ 4       ┆ null       ┆ null      ┆ 3390.2    ┆ … ┆ null      ┆ BO        ┆ AL        ┆ null      │\n",
       "└─────────┴────────────┴───────────┴───────────┴───┴───────────┴───────────┴───────────┴───────────┘"
      ]
     },
     "execution_count": 12,
     "metadata": {},
     "output_type": "execute_result"
    }
   ],
   "source": [
    "train_static.head()"
   ]
  },
  {
   "cell_type": "code",
   "execution_count": 13,
   "metadata": {},
   "outputs": [
    {
     "data": {
      "text/html": [
       "<div><style>\n",
       ".dataframe > thead > tr,\n",
       ".dataframe > tbody > tr {\n",
       "  text-align: right;\n",
       "  white-space: pre-wrap;\n",
       "}\n",
       "</style>\n",
       "<small>shape: (5, 4)</small><table border=\"1\" class=\"dataframe\"><thead><tr><th>case_id</th><th>date_decision</th><th>MONTH</th><th>WEEK_NUM</th></tr><tr><td>i64</td><td>str</td><td>i64</td><td>i64</td></tr></thead><tbody><tr><td>57543</td><td>&quot;2020-10-06&quot;</td><td>202010</td><td>92</td></tr><tr><td>57549</td><td>&quot;2020-10-06&quot;</td><td>202010</td><td>92</td></tr><tr><td>57551</td><td>&quot;2020-10-06&quot;</td><td>202010</td><td>92</td></tr><tr><td>57552</td><td>&quot;2020-10-07&quot;</td><td>202010</td><td>92</td></tr><tr><td>57569</td><td>&quot;2020-10-06&quot;</td><td>202010</td><td>92</td></tr></tbody></table></div>"
      ],
      "text/plain": [
       "shape: (5, 4)\n",
       "┌─────────┬───────────────┬────────┬──────────┐\n",
       "│ case_id ┆ date_decision ┆ MONTH  ┆ WEEK_NUM │\n",
       "│ ---     ┆ ---           ┆ ---    ┆ ---      │\n",
       "│ i64     ┆ str           ┆ i64    ┆ i64      │\n",
       "╞═════════╪═══════════════╪════════╪══════════╡\n",
       "│ 57543   ┆ 2020-10-06    ┆ 202010 ┆ 92       │\n",
       "│ 57549   ┆ 2020-10-06    ┆ 202010 ┆ 92       │\n",
       "│ 57551   ┆ 2020-10-06    ┆ 202010 ┆ 92       │\n",
       "│ 57552   ┆ 2020-10-07    ┆ 202010 ┆ 92       │\n",
       "│ 57569   ┆ 2020-10-06    ┆ 202010 ┆ 92       │\n",
       "└─────────┴───────────────┴────────┴──────────┘"
      ]
     },
     "execution_count": 13,
     "metadata": {},
     "output_type": "execute_result"
    }
   ],
   "source": [
    "test_basetable = pl.read_csv(dataPath + \"csv_files/test/test_base.csv\")\n",
    "test_basetable.head()"
   ]
  }
 ],
 "metadata": {
  "kernelspec": {
   "display_name": "Python 3",
   "language": "python",
   "name": "python3"
  },
  "language_info": {
   "codemirror_mode": {
    "name": "ipython",
    "version": 3
   },
   "file_extension": ".py",
   "mimetype": "text/x-python",
   "name": "python",
   "nbconvert_exporter": "python",
   "pygments_lexer": "ipython3",
   "version": "3.11.8"
  }
 },
 "nbformat": 4,
 "nbformat_minor": 2
}
